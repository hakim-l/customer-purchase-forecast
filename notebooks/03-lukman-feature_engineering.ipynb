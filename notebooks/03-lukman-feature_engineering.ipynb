{
 "cells": [
  {
   "cell_type": "markdown",
   "source": [
    "# Project settings"
   ],
   "metadata": {
    "collapsed": false
   },
   "id": "33d6cb47b86e042"
  },
  {
   "cell_type": "code",
   "execution_count": 1,
   "outputs": [
    {
     "data": {
      "text/plain": "'/mnt/d/Assignment/Skillvull'"
     },
     "execution_count": 1,
     "metadata": {},
     "output_type": "execute_result"
    }
   ],
   "source": [
    "import os\n",
    "import sys\n",
    "\n",
    "import pandas as pd\n",
    "\n",
    "# sys.pwd()\n",
    "os.chdir('../')\n",
    "os.getcwd()"
   ],
   "metadata": {
    "collapsed": false,
    "ExecuteTime": {
     "end_time": "2024-02-09T14:24:07.980130800Z",
     "start_time": "2024-02-09T14:24:07.645471400Z"
    }
   },
   "id": "aa2be331baacbd03"
  },
  {
   "cell_type": "code",
   "execution_count": 2,
   "outputs": [],
   "source": [
    "project_path= os.getcwd()\n",
    "data_path= os.path.join(project_path,'data')\n",
    "src_folder= os.path.join(project_path,'src','features')"
   ],
   "metadata": {
    "collapsed": false,
    "ExecuteTime": {
     "end_time": "2024-02-09T14:24:07.981256900Z",
     "start_time": "2024-02-09T14:24:07.977586400Z"
    }
   },
   "id": "b9b96b68210a899e"
  },
  {
   "cell_type": "markdown",
   "source": [
    "# Execute Pipeline"
   ],
   "metadata": {
    "collapsed": false
   },
   "id": "af02d15b2c6c7994"
  },
  {
   "cell_type": "code",
   "execution_count": 49,
   "outputs": [
    {
     "name": "stdout",
     "output_type": "stream",
     "text": [
      "/bin/bash: warning: setlocale: LC_ALL: cannot change locale (en_US.UTF-8)\r\n",
      "Load Dataset\r\n",
      "Data loaded\r\n",
      "TRAIN Size: 313\r\n",
      "TEST Size: 150\r\n",
      "Completed\r\n"
     ]
    }
   ],
   "source": [
    "! python {src_folder+'/generate_features.py'}"
   ],
   "metadata": {
    "collapsed": false,
    "ExecuteTime": {
     "end_time": "2024-02-09T16:52:41.125294700Z",
     "start_time": "2024-02-09T16:52:39.822152Z"
    }
   },
   "id": "f7d22284eae55c6b"
  },
  {
   "cell_type": "code",
   "execution_count": 43,
   "outputs": [],
   "source": [
    "train_data= pd.read_pickle(os.path.join(data_path,'processed','train.pickle'),\n",
    "                           )"
   ],
   "metadata": {
    "collapsed": false,
    "ExecuteTime": {
     "end_time": "2024-02-09T15:16:24.516185500Z",
     "start_time": "2024-02-09T15:16:24.485582400Z"
    }
   },
   "id": "7044da40c0a0b872"
  },
  {
   "cell_type": "code",
   "execution_count": 45,
   "outputs": [
    {
     "data": {
      "text/plain": "     Beauty  Clothing  Electronics  Home & Kitchen  price  ratings  \\\n0         0         1            1               0    662      4.8   \n1         0         0            1               0    744      4.8   \n2         0         0            0               1     33      4.1   \n3         0         0            1               0    602      4.4   \n4         0         1            0               0     51      4.8   \n..      ...       ...          ...             ...    ...      ...   \n343       0         0            1               0    674      4.3   \n344       0         0            1               1    220      4.0   \n345       0         2            0               0    242      4.4   \n346       0         1            0               0     51      4.8   \n347       0         0            1               0     54      4.6   \n\n     page_views  time_spent  time_per_view  \\\n0            27         149       5.518519   \n1            21         100       4.761905   \n2            25         135       5.400000   \n3            27         145       5.370370   \n4            29         150       5.172414   \n..          ...         ...            ...   \n343          23         119       5.173913   \n344          22         115       5.227273   \n345          27         145       5.370370   \n346          20          97       4.850000   \n347          28         150       5.357143   \n\n                                          target_array  \n0    [[0.0, 0.0, 0.0, 0.0, 0.0, 0.0, 0.0, 0.0, 0.0,...  \n1    [[0.0, 0.0, 0.0, 0.0, 0.0, 0.0, 0.0, 0.0, 0.0,...  \n2    [[0.0, 0.0, 0.0, 0.0, 0.0, 0.0, 0.0, 0.0, 0.0,...  \n3    [[0.0, 0.0, 0.0, 0.0, 0.0, 0.0, 0.0, 0.0, 0.0,...  \n4    [[0.0, 0.0, 0.0, 0.0, 0.0, 0.0, 0.0, 0.0, 0.0,...  \n..                                                 ...  \n343  [[0.0, 0.0, 0.0, 0.0, 0.0, 0.0, 0.0, 0.0, 0.0,...  \n344  [[0.0, 0.0, 0.0, 0.0, 0.0, 0.0, 0.0, 0.0, 0.0,...  \n345  [[0.0, 0.0, 0.0, 0.0, 0.0, 0.0, 0.0, 0.0, 0.0,...  \n346  [[0.0, 0.0, 0.0, 0.0, 0.0, 0.0, 0.0, 0.0, 0.0,...  \n347  [[0.0, 0.0, 0.0, 0.0, 0.0, 0.0, 0.0, 0.0, 0.0,...  \n\n[348 rows x 10 columns]",
      "text/html": "<div>\n<style scoped>\n    .dataframe tbody tr th:only-of-type {\n        vertical-align: middle;\n    }\n\n    .dataframe tbody tr th {\n        vertical-align: top;\n    }\n\n    .dataframe thead th {\n        text-align: right;\n    }\n</style>\n<table border=\"1\" class=\"dataframe\">\n  <thead>\n    <tr style=\"text-align: right;\">\n      <th></th>\n      <th>Beauty</th>\n      <th>Clothing</th>\n      <th>Electronics</th>\n      <th>Home &amp; Kitchen</th>\n      <th>price</th>\n      <th>ratings</th>\n      <th>page_views</th>\n      <th>time_spent</th>\n      <th>time_per_view</th>\n      <th>target_array</th>\n    </tr>\n  </thead>\n  <tbody>\n    <tr>\n      <th>0</th>\n      <td>0</td>\n      <td>1</td>\n      <td>1</td>\n      <td>0</td>\n      <td>662</td>\n      <td>4.8</td>\n      <td>27</td>\n      <td>149</td>\n      <td>5.518519</td>\n      <td>[[0.0, 0.0, 0.0, 0.0, 0.0, 0.0, 0.0, 0.0, 0.0,...</td>\n    </tr>\n    <tr>\n      <th>1</th>\n      <td>0</td>\n      <td>0</td>\n      <td>1</td>\n      <td>0</td>\n      <td>744</td>\n      <td>4.8</td>\n      <td>21</td>\n      <td>100</td>\n      <td>4.761905</td>\n      <td>[[0.0, 0.0, 0.0, 0.0, 0.0, 0.0, 0.0, 0.0, 0.0,...</td>\n    </tr>\n    <tr>\n      <th>2</th>\n      <td>0</td>\n      <td>0</td>\n      <td>0</td>\n      <td>1</td>\n      <td>33</td>\n      <td>4.1</td>\n      <td>25</td>\n      <td>135</td>\n      <td>5.400000</td>\n      <td>[[0.0, 0.0, 0.0, 0.0, 0.0, 0.0, 0.0, 0.0, 0.0,...</td>\n    </tr>\n    <tr>\n      <th>3</th>\n      <td>0</td>\n      <td>0</td>\n      <td>1</td>\n      <td>0</td>\n      <td>602</td>\n      <td>4.4</td>\n      <td>27</td>\n      <td>145</td>\n      <td>5.370370</td>\n      <td>[[0.0, 0.0, 0.0, 0.0, 0.0, 0.0, 0.0, 0.0, 0.0,...</td>\n    </tr>\n    <tr>\n      <th>4</th>\n      <td>0</td>\n      <td>1</td>\n      <td>0</td>\n      <td>0</td>\n      <td>51</td>\n      <td>4.8</td>\n      <td>29</td>\n      <td>150</td>\n      <td>5.172414</td>\n      <td>[[0.0, 0.0, 0.0, 0.0, 0.0, 0.0, 0.0, 0.0, 0.0,...</td>\n    </tr>\n    <tr>\n      <th>...</th>\n      <td>...</td>\n      <td>...</td>\n      <td>...</td>\n      <td>...</td>\n      <td>...</td>\n      <td>...</td>\n      <td>...</td>\n      <td>...</td>\n      <td>...</td>\n      <td>...</td>\n    </tr>\n    <tr>\n      <th>343</th>\n      <td>0</td>\n      <td>0</td>\n      <td>1</td>\n      <td>0</td>\n      <td>674</td>\n      <td>4.3</td>\n      <td>23</td>\n      <td>119</td>\n      <td>5.173913</td>\n      <td>[[0.0, 0.0, 0.0, 0.0, 0.0, 0.0, 0.0, 0.0, 0.0,...</td>\n    </tr>\n    <tr>\n      <th>344</th>\n      <td>0</td>\n      <td>0</td>\n      <td>1</td>\n      <td>1</td>\n      <td>220</td>\n      <td>4.0</td>\n      <td>22</td>\n      <td>115</td>\n      <td>5.227273</td>\n      <td>[[0.0, 0.0, 0.0, 0.0, 0.0, 0.0, 0.0, 0.0, 0.0,...</td>\n    </tr>\n    <tr>\n      <th>345</th>\n      <td>0</td>\n      <td>2</td>\n      <td>0</td>\n      <td>0</td>\n      <td>242</td>\n      <td>4.4</td>\n      <td>27</td>\n      <td>145</td>\n      <td>5.370370</td>\n      <td>[[0.0, 0.0, 0.0, 0.0, 0.0, 0.0, 0.0, 0.0, 0.0,...</td>\n    </tr>\n    <tr>\n      <th>346</th>\n      <td>0</td>\n      <td>1</td>\n      <td>0</td>\n      <td>0</td>\n      <td>51</td>\n      <td>4.8</td>\n      <td>20</td>\n      <td>97</td>\n      <td>4.850000</td>\n      <td>[[0.0, 0.0, 0.0, 0.0, 0.0, 0.0, 0.0, 0.0, 0.0,...</td>\n    </tr>\n    <tr>\n      <th>347</th>\n      <td>0</td>\n      <td>0</td>\n      <td>1</td>\n      <td>0</td>\n      <td>54</td>\n      <td>4.6</td>\n      <td>28</td>\n      <td>150</td>\n      <td>5.357143</td>\n      <td>[[0.0, 0.0, 0.0, 0.0, 0.0, 0.0, 0.0, 0.0, 0.0,...</td>\n    </tr>\n  </tbody>\n</table>\n<p>348 rows × 10 columns</p>\n</div>"
     },
     "execution_count": 45,
     "metadata": {},
     "output_type": "execute_result"
    }
   ],
   "source": [
    "train_data"
   ],
   "metadata": {
    "collapsed": false,
    "ExecuteTime": {
     "end_time": "2024-02-09T15:55:48.043025600Z",
     "start_time": "2024-02-09T15:55:47.974760Z"
    }
   },
   "id": "16fadbc5baf7c94d"
  },
  {
   "cell_type": "code",
   "execution_count": null,
   "outputs": [],
   "source": [],
   "metadata": {
    "collapsed": false
   },
   "id": "7d2e30ff184613bf"
  }
 ],
 "metadata": {
  "kernelspec": {
   "display_name": "Python 3",
   "language": "python",
   "name": "python3"
  },
  "language_info": {
   "codemirror_mode": {
    "name": "ipython",
    "version": 2
   },
   "file_extension": ".py",
   "mimetype": "text/x-python",
   "name": "python",
   "nbconvert_exporter": "python",
   "pygments_lexer": "ipython2",
   "version": "2.7.6"
  }
 },
 "nbformat": 4,
 "nbformat_minor": 5
}
