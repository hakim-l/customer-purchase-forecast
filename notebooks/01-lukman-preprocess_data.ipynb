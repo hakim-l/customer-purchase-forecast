{
 "cells": [
  {
   "cell_type": "markdown",
   "source": [
    "# Brief\n",
    "In this section I check and fix the format of the data"
   ],
   "metadata": {
    "collapsed": false
   },
   "id": "d9e294c09df8b5f8"
  },
  {
   "cell_type": "markdown",
   "source": [
    "# Project settings"
   ],
   "metadata": {
    "collapsed": false
   },
   "id": "285216d6008c6fe2"
  },
  {
   "cell_type": "code",
   "execution_count": 1,
   "id": "initial_id",
   "metadata": {
    "collapsed": true,
    "ExecuteTime": {
     "end_time": "2024-02-09T18:37:02.292939Z",
     "start_time": "2024-02-09T18:37:02.286659200Z"
    }
   },
   "outputs": [
    {
     "data": {
      "text/plain": "'/mnt/d/Assignment/Skillvull'"
     },
     "execution_count": 1,
     "metadata": {},
     "output_type": "execute_result"
    }
   ],
   "source": [
    "import os\n",
    "import sys\n",
    "# sys.pwd()\n",
    "os.chdir('../')\n",
    "os.getcwd()"
   ]
  },
  {
   "cell_type": "code",
   "execution_count": 2,
   "outputs": [],
   "source": [
    "project_path= os.getcwd()\n",
    "data_path= os.path.join(project_path,'data')\n",
    "src_folder= os.path.join(project_path,'src','data')"
   ],
   "metadata": {
    "collapsed": false,
    "ExecuteTime": {
     "end_time": "2024-02-09T18:37:04.630380900Z",
     "start_time": "2024-02-09T18:37:04.607568800Z"
    }
   },
   "id": "57ae0915afcc39ef"
  },
  {
   "cell_type": "markdown",
   "source": [
    "# Read Data"
   ],
   "metadata": {
    "collapsed": false
   },
   "id": "8845e37b7290f8d8"
  },
  {
   "cell_type": "code",
   "execution_count": 3,
   "outputs": [],
   "source": [
    "import pandas as pd\n",
    "\n",
    "customer_interactions = pd.read_csv(os.path.join(data_path,\n",
    "                                                 'raw',\n",
    "                                                 'customer_interactions.csv'\n",
    "                                                 ),\n",
    "                                    sep=';'\n",
    "                                    )\n",
    "\n",
    "product_details = pd.read_csv(os.path.join(data_path,\n",
    "                                           'raw',\n",
    "                                           'product_details.csv'\n",
    "                                           ),\n",
    "                              sep=';'\n",
    "                              )\n",
    "\n",
    "purchase_history = pd.read_csv(os.path.join(data_path,\n",
    "                                            'raw',\n",
    "                                            'purchase_history.csv',\n",
    "                                            ),\n",
    "                               sep=';'\n",
    "                               )\n"
   ],
   "metadata": {
    "collapsed": false,
    "ExecuteTime": {
     "end_time": "2024-02-09T18:37:05.635075400Z",
     "start_time": "2024-02-09T18:37:05.501741200Z"
    }
   },
   "id": "2d0b9d37f9915dc8"
  },
  {
   "cell_type": "markdown",
   "source": [
    "# EDA"
   ],
   "metadata": {
    "collapsed": false
   },
   "id": "82252dd2b9b07aa8"
  },
  {
   "cell_type": "markdown",
   "source": [
    "## Customer interactions"
   ],
   "metadata": {
    "collapsed": false
   },
   "id": "f1a27295cb9fefbd"
  },
  {
   "cell_type": "code",
   "execution_count": 4,
   "outputs": [
    {
     "data": {
      "text/plain": "  customer_id,page_views,time_spent\n0                          1,25,120\n1                           2,20,90\n2                          3,30,150\n3                           4,15,80\n4                          5,22,110",
      "text/html": "<div>\n<style scoped>\n    .dataframe tbody tr th:only-of-type {\n        vertical-align: middle;\n    }\n\n    .dataframe tbody tr th {\n        vertical-align: top;\n    }\n\n    .dataframe thead th {\n        text-align: right;\n    }\n</style>\n<table border=\"1\" class=\"dataframe\">\n  <thead>\n    <tr style=\"text-align: right;\">\n      <th></th>\n      <th>customer_id,page_views,time_spent</th>\n    </tr>\n  </thead>\n  <tbody>\n    <tr>\n      <th>0</th>\n      <td>1,25,120</td>\n    </tr>\n    <tr>\n      <th>1</th>\n      <td>2,20,90</td>\n    </tr>\n    <tr>\n      <th>2</th>\n      <td>3,30,150</td>\n    </tr>\n    <tr>\n      <th>3</th>\n      <td>4,15,80</td>\n    </tr>\n    <tr>\n      <th>4</th>\n      <td>5,22,110</td>\n    </tr>\n  </tbody>\n</table>\n</div>"
     },
     "execution_count": 4,
     "metadata": {},
     "output_type": "execute_result"
    }
   ],
   "source": [
    "customer_interactions"
   ],
   "metadata": {
    "collapsed": false,
    "ExecuteTime": {
     "end_time": "2024-02-09T18:37:07.150609800Z",
     "start_time": "2024-02-09T18:37:07.108182300Z"
    }
   },
   "id": "2db3232fbfee760b"
  },
  {
   "cell_type": "markdown",
   "source": [
    "Data wasn't parsed properly due to usage of ';' as separator"
   ],
   "metadata": {
    "collapsed": false
   },
   "id": "4e585a1ffd728853"
  },
  {
   "cell_type": "markdown",
   "source": [
    "## Product details"
   ],
   "metadata": {
    "collapsed": false
   },
   "id": "81c397c979567bbd"
  },
  {
   "cell_type": "code",
   "execution_count": 5,
   "outputs": [
    {
     "data": {
      "text/plain": "   product_id        category  price  ratings  Unnamed: 4  Unnamed: 5  \\\n0         101     Electronics    500      4.5         NaN         NaN   \n1         102        Clothing     50      3.8         NaN         NaN   \n2         103  Home & Kitchen    200      4.2         NaN         NaN   \n3         104          Beauty     30      4.0         NaN         NaN   \n4         105     Electronics    800      4.8         NaN         NaN   \n\n   Unnamed: 6  \n0         NaN  \n1         NaN  \n2         NaN  \n3         NaN  \n4         NaN  ",
      "text/html": "<div>\n<style scoped>\n    .dataframe tbody tr th:only-of-type {\n        vertical-align: middle;\n    }\n\n    .dataframe tbody tr th {\n        vertical-align: top;\n    }\n\n    .dataframe thead th {\n        text-align: right;\n    }\n</style>\n<table border=\"1\" class=\"dataframe\">\n  <thead>\n    <tr style=\"text-align: right;\">\n      <th></th>\n      <th>product_id</th>\n      <th>category</th>\n      <th>price</th>\n      <th>ratings</th>\n      <th>Unnamed: 4</th>\n      <th>Unnamed: 5</th>\n      <th>Unnamed: 6</th>\n    </tr>\n  </thead>\n  <tbody>\n    <tr>\n      <th>0</th>\n      <td>101</td>\n      <td>Electronics</td>\n      <td>500</td>\n      <td>4.5</td>\n      <td>NaN</td>\n      <td>NaN</td>\n      <td>NaN</td>\n    </tr>\n    <tr>\n      <th>1</th>\n      <td>102</td>\n      <td>Clothing</td>\n      <td>50</td>\n      <td>3.8</td>\n      <td>NaN</td>\n      <td>NaN</td>\n      <td>NaN</td>\n    </tr>\n    <tr>\n      <th>2</th>\n      <td>103</td>\n      <td>Home &amp; Kitchen</td>\n      <td>200</td>\n      <td>4.2</td>\n      <td>NaN</td>\n      <td>NaN</td>\n      <td>NaN</td>\n    </tr>\n    <tr>\n      <th>3</th>\n      <td>104</td>\n      <td>Beauty</td>\n      <td>30</td>\n      <td>4.0</td>\n      <td>NaN</td>\n      <td>NaN</td>\n      <td>NaN</td>\n    </tr>\n    <tr>\n      <th>4</th>\n      <td>105</td>\n      <td>Electronics</td>\n      <td>800</td>\n      <td>4.8</td>\n      <td>NaN</td>\n      <td>NaN</td>\n      <td>NaN</td>\n    </tr>\n  </tbody>\n</table>\n</div>"
     },
     "execution_count": 5,
     "metadata": {},
     "output_type": "execute_result"
    }
   ],
   "source": [
    "product_details"
   ],
   "metadata": {
    "collapsed": false,
    "ExecuteTime": {
     "end_time": "2024-02-09T18:37:08.780200900Z",
     "start_time": "2024-02-09T18:37:08.770189500Z"
    }
   },
   "id": "76d798a03cd5b3ed"
  },
  {
   "cell_type": "code",
   "execution_count": 6,
   "outputs": [
    {
     "name": "stdout",
     "output_type": "stream",
     "text": [
      "<class 'pandas.core.frame.DataFrame'>\n",
      "RangeIndex: 5 entries, 0 to 4\n",
      "Data columns (total 7 columns):\n",
      " #   Column      Non-Null Count  Dtype  \n",
      "---  ------      --------------  -----  \n",
      " 0   product_id  5 non-null      int64  \n",
      " 1   category    5 non-null      object \n",
      " 2   price       5 non-null      int64  \n",
      " 3   ratings     5 non-null      float64\n",
      " 4   Unnamed: 4  0 non-null      float64\n",
      " 5   Unnamed: 5  0 non-null      float64\n",
      " 6   Unnamed: 6  0 non-null      float64\n",
      "dtypes: float64(4), int64(2), object(1)\n",
      "memory usage: 408.0+ bytes\n"
     ]
    }
   ],
   "source": [
    "product_details.info()"
   ],
   "metadata": {
    "collapsed": false,
    "ExecuteTime": {
     "end_time": "2024-02-09T18:37:09.640687500Z",
     "start_time": "2024-02-09T18:37:09.582718Z"
    }
   },
   "id": "a8302ce4dd5e896c"
  },
  {
   "cell_type": "markdown",
   "source": [
    "There are empty columns with name pattern of 'Unnamed: .*'"
   ],
   "metadata": {
    "collapsed": false
   },
   "id": "e2447e4d4e9d8418"
  },
  {
   "cell_type": "markdown",
   "source": [
    "## Purchase history"
   ],
   "metadata": {
    "collapsed": false
   },
   "id": "87bf229f623fee3a"
  },
  {
   "cell_type": "code",
   "execution_count": 7,
   "outputs": [
    {
     "data": {
      "text/plain": "   customer_id  product_id purchase_date  Unnamed: 3  Unnamed: 4  Unnamed: 5  \\\n0            1         101    2023-01-01         NaN         NaN         NaN   \n1            1         105    2023-01-05         NaN         NaN         NaN   \n2            2         102    2023-01-02         NaN         NaN         NaN   \n3            3         103    2023-01-03         NaN         NaN         NaN   \n4            4         104    2023-01-04         NaN         NaN         NaN   \n5            5         101    2023-01-05         NaN         NaN         NaN   \n\n   Unnamed: 6  \n0         NaN  \n1         NaN  \n2         NaN  \n3         NaN  \n4         NaN  \n5         NaN  ",
      "text/html": "<div>\n<style scoped>\n    .dataframe tbody tr th:only-of-type {\n        vertical-align: middle;\n    }\n\n    .dataframe tbody tr th {\n        vertical-align: top;\n    }\n\n    .dataframe thead th {\n        text-align: right;\n    }\n</style>\n<table border=\"1\" class=\"dataframe\">\n  <thead>\n    <tr style=\"text-align: right;\">\n      <th></th>\n      <th>customer_id</th>\n      <th>product_id</th>\n      <th>purchase_date</th>\n      <th>Unnamed: 3</th>\n      <th>Unnamed: 4</th>\n      <th>Unnamed: 5</th>\n      <th>Unnamed: 6</th>\n    </tr>\n  </thead>\n  <tbody>\n    <tr>\n      <th>0</th>\n      <td>1</td>\n      <td>101</td>\n      <td>2023-01-01</td>\n      <td>NaN</td>\n      <td>NaN</td>\n      <td>NaN</td>\n      <td>NaN</td>\n    </tr>\n    <tr>\n      <th>1</th>\n      <td>1</td>\n      <td>105</td>\n      <td>2023-01-05</td>\n      <td>NaN</td>\n      <td>NaN</td>\n      <td>NaN</td>\n      <td>NaN</td>\n    </tr>\n    <tr>\n      <th>2</th>\n      <td>2</td>\n      <td>102</td>\n      <td>2023-01-02</td>\n      <td>NaN</td>\n      <td>NaN</td>\n      <td>NaN</td>\n      <td>NaN</td>\n    </tr>\n    <tr>\n      <th>3</th>\n      <td>3</td>\n      <td>103</td>\n      <td>2023-01-03</td>\n      <td>NaN</td>\n      <td>NaN</td>\n      <td>NaN</td>\n      <td>NaN</td>\n    </tr>\n    <tr>\n      <th>4</th>\n      <td>4</td>\n      <td>104</td>\n      <td>2023-01-04</td>\n      <td>NaN</td>\n      <td>NaN</td>\n      <td>NaN</td>\n      <td>NaN</td>\n    </tr>\n    <tr>\n      <th>5</th>\n      <td>5</td>\n      <td>101</td>\n      <td>2023-01-05</td>\n      <td>NaN</td>\n      <td>NaN</td>\n      <td>NaN</td>\n      <td>NaN</td>\n    </tr>\n  </tbody>\n</table>\n</div>"
     },
     "execution_count": 7,
     "metadata": {},
     "output_type": "execute_result"
    }
   ],
   "source": [
    "purchase_history"
   ],
   "metadata": {
    "collapsed": false,
    "ExecuteTime": {
     "end_time": "2024-02-09T18:37:16.922198800Z",
     "start_time": "2024-02-09T18:37:16.917835700Z"
    }
   },
   "id": "6aa79b8a4609d5e3"
  },
  {
   "cell_type": "markdown",
   "source": [
    "There are empty columns with name pattern of 'Unnamed: .*'"
   ],
   "metadata": {
    "collapsed": false
   },
   "id": "324d8fadcc8edf93"
  },
  {
   "cell_type": "markdown",
   "source": [
    "## Preprocess data"
   ],
   "metadata": {
    "collapsed": false,
    "ExecuteTime": {
     "end_time": "2024-02-09T04:51:45.663125300Z",
     "start_time": "2024-02-09T04:51:45.656098700Z"
    }
   },
   "id": "80b33e82c2a290a6"
  },
  {
   "cell_type": "markdown",
   "source": [
    "Preprocess is done by script written in src/data/preprocess_data.py\n",
    "The script do the following:\n",
    "   - Parse customer interactions using ';' as separator\n",
    "   - Delete columns with name pattern 'Unnamed: .*'"
   ],
   "metadata": {
    "collapsed": false
   },
   "id": "2daa3a8b4c73d462"
  },
  {
   "cell_type": "code",
   "execution_count": 8,
   "outputs": [
    {
     "data": {
      "text/plain": "'/mnt/d/Assignment/Skillvull/src/data/preprocess_data.py'"
     },
     "execution_count": 8,
     "metadata": {},
     "output_type": "execute_result"
    }
   ],
   "source": [
    "os.path.join(src_folder,\n",
    "             'preprocess_data.py'\n",
    "             )"
   ],
   "metadata": {
    "collapsed": false,
    "ExecuteTime": {
     "end_time": "2024-02-09T18:40:11.047320300Z",
     "start_time": "2024-02-09T18:40:11.037309900Z"
    }
   },
   "id": "5e4633afe0291e53"
  },
  {
   "cell_type": "code",
   "execution_count": 8,
   "outputs": [
    {
     "name": "stdout",
     "output_type": "stream",
     "text": [
      "/bin/bash: warning: setlocale: LC_ALL: cannot change locale (en_US.UTF-8)\r\n",
      "Load Dataset\r\n",
      "Remove Unnmaed cols\r\n",
      "Save results\r\n"
     ]
    }
   ],
   "source": [
    "! python {src_folder+'/preprocess_data.py'}"
   ],
   "metadata": {
    "collapsed": false,
    "ExecuteTime": {
     "end_time": "2024-02-08T13:51:53.106434200Z",
     "start_time": "2024-02-08T13:51:49.351416800Z"
    }
   },
   "id": "9886e1aea5eb16f6"
  },
  {
   "cell_type": "markdown",
   "source": [
    "# Load results"
   ],
   "metadata": {
    "collapsed": false,
    "ExecuteTime": {
     "end_time": "2024-02-09T04:51:58.376463100Z",
     "start_time": "2024-02-09T04:51:58.371011400Z"
    }
   },
   "id": "5b496bd6b3e8b8ae"
  },
  {
   "cell_type": "markdown",
   "source": [
    "Read the preprocessing results"
   ],
   "metadata": {
    "collapsed": false
   },
   "id": "ef35d05125ec0482"
  },
  {
   "cell_type": "code",
   "execution_count": 11,
   "outputs": [],
   "source": [
    "customer_interactions = pd.read_csv(os.path.join(data_path,\n",
    "                                                 'interim',\n",
    "                                                 'original',\n",
    "                                                 'customer_interactions.csv'\n",
    "                                                 ),\n",
    "                                    # sep=','\n",
    "                                    )\n",
    "\n",
    "product_details = pd.read_csv(os.path.join(data_path,\n",
    "                                           'interim',\n",
    "                                           'original',\n",
    "                                           'product_details.csv'\n",
    "                                           ),\n",
    "                              )\n",
    "\n",
    "purchase_history = pd.read_csv(os.path.join(data_path,\n",
    "                                            'interim',\n",
    "                                            'original',\n",
    "                                            'purchase_history.csv',\n",
    "                                            ),\n",
    "                               )"
   ],
   "metadata": {
    "collapsed": false,
    "ExecuteTime": {
     "end_time": "2024-02-09T18:41:37.730550200Z",
     "start_time": "2024-02-09T18:41:37.657942400Z"
    }
   },
   "id": "47691d4d2b2ba6fe"
  },
  {
   "cell_type": "markdown",
   "source": [
    "All of columns in customer interactions parsed properly"
   ],
   "metadata": {
    "collapsed": false
   },
   "id": "4feaf52e2105d812"
  },
  {
   "cell_type": "code",
   "execution_count": 12,
   "outputs": [
    {
     "data": {
      "text/plain": "   customer_id  page_views  time_spent\n0            1          25         120\n1            2          20          90\n2            3          30         150\n3            4          15          80\n4            5          22         110",
      "text/html": "<div>\n<style scoped>\n    .dataframe tbody tr th:only-of-type {\n        vertical-align: middle;\n    }\n\n    .dataframe tbody tr th {\n        vertical-align: top;\n    }\n\n    .dataframe thead th {\n        text-align: right;\n    }\n</style>\n<table border=\"1\" class=\"dataframe\">\n  <thead>\n    <tr style=\"text-align: right;\">\n      <th></th>\n      <th>customer_id</th>\n      <th>page_views</th>\n      <th>time_spent</th>\n    </tr>\n  </thead>\n  <tbody>\n    <tr>\n      <th>0</th>\n      <td>1</td>\n      <td>25</td>\n      <td>120</td>\n    </tr>\n    <tr>\n      <th>1</th>\n      <td>2</td>\n      <td>20</td>\n      <td>90</td>\n    </tr>\n    <tr>\n      <th>2</th>\n      <td>3</td>\n      <td>30</td>\n      <td>150</td>\n    </tr>\n    <tr>\n      <th>3</th>\n      <td>4</td>\n      <td>15</td>\n      <td>80</td>\n    </tr>\n    <tr>\n      <th>4</th>\n      <td>5</td>\n      <td>22</td>\n      <td>110</td>\n    </tr>\n  </tbody>\n</table>\n</div>"
     },
     "execution_count": 12,
     "metadata": {},
     "output_type": "execute_result"
    }
   ],
   "source": [
    "customer_interactions"
   ],
   "metadata": {
    "collapsed": false,
    "ExecuteTime": {
     "end_time": "2024-02-09T18:41:39.647772800Z",
     "start_time": "2024-02-09T18:41:39.606880800Z"
    }
   },
   "id": "12436c798cec23b2"
  },
  {
   "cell_type": "markdown",
   "source": [
    "No column with name pattern 'Unnamed: .*'"
   ],
   "metadata": {
    "collapsed": false
   },
   "id": "4d07240053844486"
  },
  {
   "cell_type": "code",
   "execution_count": 13,
   "outputs": [
    {
     "data": {
      "text/plain": "   customer_id  product_id purchase_date\n0            1         101    2023-01-01\n1            1         105    2023-01-05\n2            2         102    2023-01-02\n3            3         103    2023-01-03\n4            4         104    2023-01-04\n5            5         101    2023-01-05",
      "text/html": "<div>\n<style scoped>\n    .dataframe tbody tr th:only-of-type {\n        vertical-align: middle;\n    }\n\n    .dataframe tbody tr th {\n        vertical-align: top;\n    }\n\n    .dataframe thead th {\n        text-align: right;\n    }\n</style>\n<table border=\"1\" class=\"dataframe\">\n  <thead>\n    <tr style=\"text-align: right;\">\n      <th></th>\n      <th>customer_id</th>\n      <th>product_id</th>\n      <th>purchase_date</th>\n    </tr>\n  </thead>\n  <tbody>\n    <tr>\n      <th>0</th>\n      <td>1</td>\n      <td>101</td>\n      <td>2023-01-01</td>\n    </tr>\n    <tr>\n      <th>1</th>\n      <td>1</td>\n      <td>105</td>\n      <td>2023-01-05</td>\n    </tr>\n    <tr>\n      <th>2</th>\n      <td>2</td>\n      <td>102</td>\n      <td>2023-01-02</td>\n    </tr>\n    <tr>\n      <th>3</th>\n      <td>3</td>\n      <td>103</td>\n      <td>2023-01-03</td>\n    </tr>\n    <tr>\n      <th>4</th>\n      <td>4</td>\n      <td>104</td>\n      <td>2023-01-04</td>\n    </tr>\n    <tr>\n      <th>5</th>\n      <td>5</td>\n      <td>101</td>\n      <td>2023-01-05</td>\n    </tr>\n  </tbody>\n</table>\n</div>"
     },
     "execution_count": 13,
     "metadata": {},
     "output_type": "execute_result"
    }
   ],
   "source": [
    "purchase_history"
   ],
   "metadata": {
    "collapsed": false,
    "ExecuteTime": {
     "end_time": "2024-02-09T18:41:40.287111700Z",
     "start_time": "2024-02-09T18:41:40.239421800Z"
    }
   },
   "id": "e4dd9022b9f4b3a5"
  },
  {
   "cell_type": "markdown",
   "source": [
    "No column with name pattern 'Unnamed: .*'"
   ],
   "metadata": {
    "collapsed": false
   },
   "id": "15cba7f1df4640b0"
  },
  {
   "cell_type": "code",
   "execution_count": 14,
   "outputs": [
    {
     "data": {
      "text/plain": "   product_id        category  price  ratings\n0         101     Electronics    500      4.5\n1         102        Clothing     50      3.8\n2         103  Home & Kitchen    200      4.2\n3         104          Beauty     30      4.0\n4         105     Electronics    800      4.8",
      "text/html": "<div>\n<style scoped>\n    .dataframe tbody tr th:only-of-type {\n        vertical-align: middle;\n    }\n\n    .dataframe tbody tr th {\n        vertical-align: top;\n    }\n\n    .dataframe thead th {\n        text-align: right;\n    }\n</style>\n<table border=\"1\" class=\"dataframe\">\n  <thead>\n    <tr style=\"text-align: right;\">\n      <th></th>\n      <th>product_id</th>\n      <th>category</th>\n      <th>price</th>\n      <th>ratings</th>\n    </tr>\n  </thead>\n  <tbody>\n    <tr>\n      <th>0</th>\n      <td>101</td>\n      <td>Electronics</td>\n      <td>500</td>\n      <td>4.5</td>\n    </tr>\n    <tr>\n      <th>1</th>\n      <td>102</td>\n      <td>Clothing</td>\n      <td>50</td>\n      <td>3.8</td>\n    </tr>\n    <tr>\n      <th>2</th>\n      <td>103</td>\n      <td>Home &amp; Kitchen</td>\n      <td>200</td>\n      <td>4.2</td>\n    </tr>\n    <tr>\n      <th>3</th>\n      <td>104</td>\n      <td>Beauty</td>\n      <td>30</td>\n      <td>4.0</td>\n    </tr>\n    <tr>\n      <th>4</th>\n      <td>105</td>\n      <td>Electronics</td>\n      <td>800</td>\n      <td>4.8</td>\n    </tr>\n  </tbody>\n</table>\n</div>"
     },
     "execution_count": 14,
     "metadata": {},
     "output_type": "execute_result"
    }
   ],
   "source": [
    "product_details"
   ],
   "metadata": {
    "collapsed": false,
    "ExecuteTime": {
     "end_time": "2024-02-09T18:41:41.310323800Z",
     "start_time": "2024-02-09T18:41:41.245876400Z"
    }
   },
   "id": "fc507054bd1d2361"
  }
 ],
 "metadata": {
  "kernelspec": {
   "display_name": "Python 3",
   "language": "python",
   "name": "python3"
  },
  "language_info": {
   "codemirror_mode": {
    "name": "ipython",
    "version": 2
   },
   "file_extension": ".py",
   "mimetype": "text/x-python",
   "name": "python",
   "nbconvert_exporter": "python",
   "pygments_lexer": "ipython2",
   "version": "2.7.6"
  }
 },
 "nbformat": 4,
 "nbformat_minor": 5
}
